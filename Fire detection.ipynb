{
 "cells": [
  {
   "cell_type": "code",
   "execution_count": 7,
   "metadata": {},
   "outputs": [
    {
     "name": "stdout",
     "output_type": "stream",
     "text": [
      "fire is detected\n",
      "fire is detected\n",
      "fire is detected\n",
      "fire is detected\n",
      "fire is detected\n",
      "fire is detected\n",
      "fire is detected\n",
      "fire is detected\n",
      "fire is detected\n",
      "fire is detected\n",
      "fire is detected\n",
      "fire is detected\n",
      "fire is detected\n",
      "fire is detected\n",
      "fire is detected\n",
      "fire is detected\n",
      "fire is detected\n",
      "fire is detected\n",
      "fire is detected\n",
      "fire is detected\n",
      "fire is detected\n",
      "fire is detected\n",
      "fire is detected\n",
      "fire is detected\n",
      "fire is detected\n",
      "fire is detected\n",
      "fire is detected\n",
      "fire is detected\n",
      "fire is detected\n",
      "fire is detected\n",
      "fire is detected\n",
      "fire is detected\n",
      "fire is detected\n",
      "fire is detected\n",
      "fire is detected\n",
      "fire is detected\n",
      "fire is detected\n",
      "fire is detected\n",
      "fire is detected\n",
      "fire is detected\n",
      "fire is detected\n",
      "fire is detected\n",
      "fire is detected\n",
      "fire is detected\n",
      "fire is detected\n",
      "fire is detected\n",
      "fire is detected\n",
      "fire is detected\n",
      "fire is detected\n",
      "fire is detected\n",
      "fire is detected\n",
      "fire is detected\n",
      "fire is detected\n",
      "fire is detected\n",
      "fire is detected\n",
      "fire is detected\n",
      "fire is detected\n",
      "fire is detected\n",
      "fire is detected\n",
      "fire is detected\n",
      "fire is detected\n",
      "fire is detected\n",
      "fire is detected\n",
      "fire is detected\n",
      "fire is detected\n",
      "fire is detected\n",
      "fire is detected\n",
      "fire is detected\n",
      "fire is detected\n",
      "fire is detected\n",
      "fire is detected\n",
      "fire is detected\n",
      "fire is detected\n",
      "fire is detected\n",
      "fire is detected\n",
      "fire is detected\n",
      "fire is detected\n",
      "fire is detected\n",
      "fire is detected\n",
      "fire is detected\n",
      "fire is detected\n",
      "fire is detected\n",
      "fire is detected\n",
      "fire is detected\n",
      "fire is detected\n",
      "fire is detected\n",
      "fire is detected\n",
      "fire is detected\n",
      "fire is detected\n",
      "fire is detected\n",
      "fire is detected\n",
      "fire is detected\n",
      "fire is detected\n",
      "fire is detected\n",
      "fire is detected\n",
      "fire is detected\n",
      "fire is detected\n",
      "fire is detected\n",
      "fire is detected\n",
      "fire is detected\n",
      "fire is detected\n",
      "fire is detected\n",
      "fire is detected\n",
      "fire is detected\n",
      "fire is detected\n",
      "fire is detected\n",
      "fire is detected\n",
      "fire is detected\n",
      "fire is detected\n",
      "fire is detected\n",
      "fire is detected\n",
      "fire is detected\n",
      "fire is detected\n",
      "fire is detected\n",
      "fire is detected\n",
      "fire is detected\n",
      "fire is detected\n",
      "fire is detected\n",
      "fire is detected\n",
      "fire is detected\n"
     ]
    }
   ],
   "source": [
    "import cv2#for multiple faces\n",
    "import numpy as np\n",
    "#import serial\n",
    "import time\n",
    "\n",
    "v=cv2.VideoCapture(0)\n",
    "time.sleep(2)\n",
    "fdc=cv2.CascadeClassifier(r'fire_detection.xml')\n",
    "while(1):\n",
    "        d,i=v.read()\n",
    "        #print(i.shape)\n",
    "        fire=fdc.detectMultiScale(i,2.3,5)\n",
    "\n",
    "        if(len(fire)>=1):\n",
    "         for x,y,w,h in fire:\n",
    "              font=cv2.FONT_HERSHEY_SIMPLEX\n",
    "              cv2.putText(i,'Fire Detected',(x-w,y-h),font,0.5,(0,255,255),2,cv2.LINE_AA)\n",
    "              cv2.rectangle(i,(x,y),(x+w,y+h),(0,0,255),2)\n",
    "            # roi_gray = gray[y:y+h, x:x+w]\n",
    "        cv2.imshow('image',i)\n",
    "\n",
    "        if(len(fire)==1):\n",
    "           \n",
    "           print('fire is detected')\n",
    "        k=cv2.waitKey(5)\n",
    "        if(k==ord('q')):\n",
    "                cv2.destroyAllWindows()\n",
    "                break\n",
    "                "
   ]
  },
  {
   "cell_type": "code",
   "execution_count": 3,
   "metadata": {},
   "outputs": [
    {
     "name": "stdout",
     "output_type": "stream",
     "text": [
      "No Python documentation found for 'detectMultiScale'.\n",
      "Use help() to get the interactive help utility.\n",
      "Use help(str) for help on the str class.\n",
      "\n"
     ]
    }
   ],
   "source": [
    "help('detectMultiScale')"
   ]
  },
  {
   "cell_type": "code",
   "execution_count": 1,
   "metadata": {},
   "outputs": [],
   "source": [
    "import statistics"
   ]
  },
  {
   "cell_type": "code",
   "execution_count": 2,
   "metadata": {},
   "outputs": [],
   "source": [
    "x= [1,5,7,8,9]\n",
    "p=statistics.variance(x)"
   ]
  },
  {
   "cell_type": "code",
   "execution_count": 3,
   "metadata": {},
   "outputs": [
    {
     "data": {
      "text/plain": [
       "10"
      ]
     },
     "execution_count": 3,
     "metadata": {},
     "output_type": "execute_result"
    }
   ],
   "source": [
    "p"
   ]
  },
  {
   "cell_type": "code",
   "execution_count": null,
   "metadata": {},
   "outputs": [],
   "source": []
  },
  {
   "cell_type": "code",
   "execution_count": null,
   "metadata": {},
   "outputs": [],
   "source": []
  },
  {
   "cell_type": "code",
   "execution_count": null,
   "metadata": {},
   "outputs": [],
   "source": []
  },
  {
   "cell_type": "code",
   "execution_count": null,
   "metadata": {},
   "outputs": [],
   "source": []
  },
  {
   "cell_type": "code",
   "execution_count": null,
   "metadata": {},
   "outputs": [],
   "source": []
  }
 ],
 "metadata": {
  "kernelspec": {
   "display_name": "Python 3",
   "language": "python",
   "name": "python3"
  },
  "language_info": {
   "codemirror_mode": {
    "name": "ipython",
    "version": 3
   },
   "file_extension": ".py",
   "mimetype": "text/x-python",
   "name": "python",
   "nbconvert_exporter": "python",
   "pygments_lexer": "ipython3",
   "version": "3.6.5"
  },
  "widgets": {
   "state": {},
   "version": "1.1.2"
  }
 },
 "nbformat": 4,
 "nbformat_minor": 2
}
